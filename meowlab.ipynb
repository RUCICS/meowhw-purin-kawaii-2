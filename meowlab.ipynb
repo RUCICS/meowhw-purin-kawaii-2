{
 "cells": [
  {
   "cell_type": "markdown",
   "id": "c6175159",
   "metadata": {},
   "source": [
    "# MeowLab\n",
    "\n",
    "> cat可能是你最常用的命令行工具之一，但是可能很少有人会关注cat的性能问题。\n",
    "> \n",
    "> 但实际上，cat可能比你想的更加高效。在这个lab中，我们会一起来探索cat如此高效的秘密。"
   ]
  },
  {
   "cell_type": "markdown",
   "id": "ef876965",
   "metadata": {},
   "source": [
    "## 什么是cat\n",
    "\n",
    "对于大部分同学来说，这个问题有些太trivial了。但是以防万一，还是在这里介绍一下，cat是一个GNU coreutils中的一个程序，它的作用是连接(con**cat**enate)一系列文件，并将其输出到标准输出流(stdout)中。\n",
    "\n",
    "> 如果你愿意去找，你会发现这个lab中所有的代码都可以在GNU coreutils中找到，或者你用某个大模型，它可能也能写得不错。\n",
    "> 但是，除了写代码以外，这个lab中也会包含一些分析和讨论。因此即使你选择直接去抄GNU coreutils中的代码，也不要直接不加思考的复制粘贴。"
   ]
  },
  {
   "cell_type": "markdown",
   "id": "be33179e",
   "metadata": {},
   "source": [
    "## 环境要求\n",
    "\n",
    "* 操作系统：Linux（任何包含GNU coreutils的发行版）\n",
    "* 编译器：本lab允许使用C/C++或者Rust，选择你喜欢的任何编译器即可。\n",
    "* Python3.x：本lab一些地方需要你画图，推荐你使用matplotlib。另外，我们使用一个简单的脚本来生成测试文件。"
   ]
  },
  {
   "cell_type": "markdown",
   "id": "c6d3e510",
   "metadata": {},
   "source": [
    "## 在开始之前\n",
    "\n",
    "这个项目的所有代码需要你自己动手来写，我们只提供了一个用于生成测试文件的脚本。\n",
    "\n",
    "为了展示比较明显的测试效果，我们会生成一个2GB的测试文件，请确保你的磁盘拥有足够的空间。你可以运行下面这个单元格来查看你的电脑是否有足够的空间。这里我们使用了`df`命令，这个命令的作用是查看某个文件系统所在的磁盘的使用量。"
   ]
  },
  {
   "cell_type": "code",
   "execution_count": null,
   "id": "14021422",
   "metadata": {},
   "outputs": [],
   "source": [
    "%%bash\n",
    "df -h /\n",
    "\n",
    "avail=$(df -h / | awk 'NR==2 {print $4}' | grep -o '[0-9.]*')\n",
    "unit=$(df -h / | awk 'NR==2 {print $4}' | grep -o '[a-zA-Z]*')\n",
    "if [[ \"$unit\" == \"M\" || \"$unit\" == \"K\" ]]; then\n",
    "    echo \"Disk space is low: $avail$unit\"\n",
    "elif [[ \"$unit\" == \"T\" ]]; then\n",
    "    echo \"Disk space is sufficient: $avail$unit\"\n",
    "elif [[ \"$unit\" == \"G\" ]]; then\n",
    "    if (( $(echo \"$avail < 10\" | bc -l) )); then\n",
    "        echo \"Disk space is low: $avail$unit\"\n",
    "    else\n",
    "        echo \"Disk space is sufficient: $avail$unit\"\n",
    "    fi\n",
    "else\n",
    "    echo \"Unknown unit: $unit\"\n",
    "fi\n"
   ]
  },
  {
   "cell_type": "code",
   "execution_count": null,
   "id": "b8461304",
   "metadata": {},
   "outputs": [],
   "source": []
  },
  {
   "cell_type": "code",
   "execution_count": null,
   "id": "281662c1",
   "metadata": {},
   "outputs": [],
   "source": [
    "h / | awk 'NR==2 {print $4}' | grep -o '[0-9.]*')\n",
    "unit=$(df -h / | awk 'NR==2 {print $4}' | grep -o '[a-zA-Z]*')\n",
    "if [[ \"$unit\" == \"M\" || \"$unit\" == \"K\" ]]; then\n",
    "    echo \"Disk space is low: $avail$unit\"\n",
    "elif [[ \"$unit\" == \"T\" ]]; then\n",
    "    echo \"Disk space is sufficient: $avail$unit\"\n",
    "elif [[ \"$unit\" == \"G\" ]]; then\n",
    "    if (( $(echo \"$avail < 10\" | bc -l) )); then\n",
    "        echo \"Disk space is low: $avail$unit\"\n",
    "    else\n",
    "        echo \"Disk space is sufficient: $avail$unit\"\n",
    "    fi\n",
    "else\n",
    "    echo \"Unknown unit: $unit\"\n",
    "fi\n"
   ]
  },
  {
   "cell_type": "markdown",
   "id": "64cc6804",
   "metadata": {},
   "source": [
    "你可以使用我们提供的python脚本来生成测试文件，运行下面的单元格。测试文件的生成可能会花费一定的时间。"
   ]
  },
  {
   "cell_type": "code",
   "execution_count": null,
   "id": "8ead0359",
   "metadata": {},
   "outputs": [],
   "source": [
    "import random\n",
    "\n",
    "MB = 1024 * 1024\n",
    "\n",
    "# A static seed for reproducibility\n",
    "random.seed(42)\n",
    "\n",
    "with open(\"test.txt\", \"wb\") as f:\n",
    "    for _ in range(2048):\n",
    "        f.write(random.randbytes(1 * MB)) # 1MB of random data"
   ]
  },
  {
   "cell_type": "markdown",
   "id": "a0017028",
   "metadata": {},
   "source": [
    "当前文件夹下面会出现一个大小为2GB的文件`test.txt`。你可以运行下面的单元格来验证。"
   ]
  },
  {
   "cell_type": "code",
   "execution_count": null,
   "id": "a4bd4bd0",
   "metadata": {},
   "outputs": [],
   "source": [
    "%%bash\n",
    "ls -lh test.txt"
   ]
  },
  {
   "cell_type": "markdown",
   "id": "55fbac6a",
   "metadata": {},
   "source": [
    "最后，我们的lab会需要使用`hyperfine`来测量程序的运行时间。我们推荐你使用`cargo`进行安装。你可以从[Rust官网](https://www.rust-lang.org/zh-CN/learn/get-started)找到安装脚本。如果你的电脑已经安装好了`cargo`，你可以运行下面的单元格来安装`hyperfine`。"
   ]
  },
  {
   "cell_type": "code",
   "execution_count": null,
   "id": "77f0165a",
   "metadata": {},
   "outputs": [],
   "source": [
    "%%bash\n",
    "cargo install hyperfine"
   ]
  },
  {
   "cell_type": "markdown",
   "id": "45cefa6f",
   "metadata": {},
   "source": [
    "有了以上的准备工作，我们终于可以开始我们的探索之旅了。"
   ]
  },
  {
   "cell_type": "markdown",
   "id": "9c1afa63",
   "metadata": {},
   "source": [
    "## 任务0: 测量cat的效率\n",
    "\n",
    "你要做的第一个任务十分简单。学习一下如何使用`hyperfine`，并且使用它来测试GNU coreutils中的cat输出我们生成的测试文件`test.txt`的时间。运行下面的单元格来运行测试。"
   ]
  },
  {
   "cell_type": "code",
   "execution_count": null,
   "id": "4af9a82b",
   "metadata": {},
   "outputs": [],
   "source": [
    "%%bash\n",
    "hyperfine --warmup 3 'cat test.txt'"
   ]
  },
  {
   "cell_type": "markdown",
   "id": "cd94fe5a",
   "metadata": {},
   "source": [
    "## 任务1: 写一个最朴素的cat\n",
    "\n",
    "我们现在使用`hyperfine`测量了GNU coreutils中的`cat`的运行效率，但是对于这个运行时间，我们可能并没有什么概念。现在我们将会写一个最朴素的`cat`程序来作为baseline。这个程序需要满足一下要求：\n",
    "1. 把你的源代码命名为`mycat1.c`或者`mycat1.rs`，并且可执行的二进制文件命名为`mycat1`。\n",
    "2. 你的程序接受且只接受一个命令行参数，这个参数是你要读取的文件。\n",
    "3. 你的程序直接使用`read`和`write`系统调用，每次读取并输出一个字符，不使用任何缓冲区。\n",
    "4. 使用`hpyerfine`测量`mycat1`和`cat`运行时间（`mycat1`的运行时间可能会非常长）\n",
    "5. 虽然这是一个很简单的程序，但是请仍然保持系统编程的规范。请在你的代码中进行进行所有必要的错误处理。\n",
    "\n",
    "这个任务不需要在文档中包含任何内容。"
   ]
  },
  {
   "cell_type": "code",
   "execution_count": null,
   "id": "124223b9",
   "metadata": {},
   "outputs": [],
   "source": [
    "%%bash\n",
    "hyperfine --warmup 3 --runs 1 './target/mycat1 test.txt'"
   ]
  },
  {
   "cell_type": "markdown",
   "id": "7105038c",
   "metadata": {},
   "source": [
    "## 任务2: 带有缓冲区的cat\n",
    "\n",
    "如果你正确完成了上面的任务，你会发现，`mycat1`的性能和系统中的`cat`的性能相差甚远。但是经过了ics课程的学习，你肯定已经想到了至少一个解决方案——使用缓冲区。缓冲区可以有效减少反复进行系统调用的性能消耗。但是，我们要面临的第二个问题是：缓冲区的大小应该如何设置呢？我们接下来将一步一步地探索这个问题。\n",
    "\n",
    "我们之前肯定也已经讲过不少涉及IO缓冲区的程序了，它们的缓冲区大小都被设置为多少呢？我相信1024, 4096, 8192一定是比较常见的几个数字。经过ics的学习，我相信你们肯定能说出原因了。那么，这个任务，我们将根据这个原理优化我们的`mycat1`。你至少需要完成下面要求：\n",
    "1. 复制你上一个任务的源代码在上面做修改，并把源代码命名为`mycat2.c`/`mycat2.rs`，可执行二进制文件命名为`mycat2`。\n",
    "2. 写一个`io_blocksize`函数用于确定你的缓冲区的大小，在这个任务中，你可以将缓冲区设置成你当前系统中一个内存页的大小。（注意：你不能假设所有系统中内存页的大小都是4K，请你使用一个系统调用或者标准库中的函数来获取内存页的大小，而不要使用一个固定值。不过允许你使用一个固定值，如果获取内存页发生错误，但是这不应该是一个常见的情况）。\n",
    "3. 使用标准库提供的函数动态分配用于缓冲区的内存。\n",
    "4. 使用`hpyerfine`测量`mycat2`的运行时间\n",
    "5. 请保持系统编程的基本规范。\n",
    "\n",
    "这个任务不需要在文档中包含任何内容。"
   ]
  },
  {
   "cell_type": "code",
   "execution_count": null,
   "id": "ac23d60f",
   "metadata": {},
   "outputs": [],
   "source": [
    "%%bash\n",
    "hyperfine --warmup 3 './target/mycat2 test.txt'"
   ]
  },
  {
   "cell_type": "markdown",
   "id": "c5630499",
   "metadata": {},
   "source": [
    "## 任务3: 缓冲区对齐的cat\n",
    "\n",
    "如果你正确完成了上面这个任务，你会发现，添加了缓冲区的`mycat2`性能提升十分显著。但是我们还可以进一步优化。实际上只是添加了缓冲区并且设置缓冲区的大小为内存页的整数倍并不是没有什么太多的意义，这样的设置只是为了这个一个任务做铺垫的。在这个任务中，我们将尝试将我们的缓冲区对齐到系统的内存页。至于为什么要这么做，请大家在自己的文档中分析一下。你至少需要完成以下要求：\n",
    "1. 复制你上一个任务的源代码在上面做修改，并把源代码命名为`mycat3.c`/`mycat3.rs`，可执行二进制文件命名为`mycat3`。\n",
    "2. 写两个函数`char* align_alloc(size_t size)`和`void align_free(void* ptr)`，它们的作用分别是分配一段内存，长度不小于`size`并且返回一个对齐到内存页起始的指针`ptr`，以及给出一个先前从`align_alloc`返回的指针并释放之前分配的内存。\n",
    "3. 利用这两个函数修改你的代码，缓冲区的大小仍然设置成一个内存页的大小。\n",
    "4. 使用`hpyerfine`测量`mycat3`的运行时间\n",
    "5. 请保持系统编程的基本规范。\n",
    "\n",
    "这个任务，你需要在文档中回答以下问题：\n",
    "1. 为什么将缓冲区对齐到系统的内存可能提高性能？你的实验结果支持这个猜想吗？为什么？\n",
    "2. 为什么我们直接使用`malloc`函数分配的内存不能对齐到内存页，即使我们分配的内存大小已经是内存页大小的整数倍了。\n",
    "3. 你是怎么在不知道原始的malloc返回的指针的情况下正确释放内存的？"
   ]
  },
  {
   "cell_type": "markdown",
   "id": "3ad152d8",
   "metadata": {},
   "source": [
    "## Answer\n",
    "### 1.\n",
    "#### (1) \n",
    "将缓冲区对齐到内存页，理论上可能提高性能。这是因为计算机的内存管理是以“页”（通常是 4KB）为单位的。如果我们的数据缓冲区正好从一个页的起始地址开始，CPU 和其他硬件（比如硬盘控制器）在访问这块内存时会更方便，可以避免一些额外的地址计算或者跨页访问的开销。\n",
    "#### (2) \n",
    "但是，我的实验结果并不支持这个猜想。mycat2 (普通缓冲) 的平均耗时是 862.8 ms。mycat3 (页对齐缓冲) 的平均耗时是 860.9 ms。这两个时间非常接近，几乎没有差别。\n",
    "#### (3)\n",
    "主要原因是我们用的是标准 I/O。当我们调用 read 函数时，数据并不是直接从硬盘读到缓冲区里，而是OS读到Page Cache，本身就是对齐的。因为有OS处理了对齐问题，所以在程序里再做一次对齐，效果就不明显。\n",
    "\n",
    "### 2.\n",
    "malloc通常只会保证返回的内存地址对于int, double来说是对齐的（通常是 8 或 16 字节对齐），但它不会奢侈地保证对齐到 4096 字节这么大的内存页边界。\n",
    "\n",
    "### 3.\n",
    "使用posix_memalign函数来分配内存，然后用free函数来释放，所以实际上是向系统申请了一块比我们要求稍大一点的内存。\n"
   ]
  },
  {
   "cell_type": "code",
   "execution_count": null,
   "id": "cc9a08fd",
   "metadata": {},
   "outputs": [],
   "source": [
    "%%bash\n",
    "hyperfine --warmup 3 './target/mycat3 test.txt'"
   ]
  },
  {
   "cell_type": "markdown",
   "id": "45070667",
   "metadata": {},
   "source": [
    "## 任务4: 设置缓冲区大小为文件系统块大小的整数倍的cat\n",
    "\n",
    "由于`cat`是涉及文件操作的，所以我们自然不能离开磁盘操作。我们在课内已经学到过，磁盘操作的基本单位是块。并且因为我们操作磁盘是经过了操作系统的一层抽象的，操作系统的文件系统也定义了一个操作文件的基本单位块，这个块的大小和磁盘的块的大小相关，但不总是相同。因此我们操作文件的时候实际接触到的块大小是文件系统的块大小。如果我们每次读取和写入文件的时候都按照文件系统的块大小来进行，也能提升性能。在这个任务中，你至少需要完成以下要求：\n",
    "1. 复制你上一个任务的源代码在上面做修改，并把源代码命名为`mycat4.c`/`mycat4.rs`，可执行二进制文件命名为`mycat4`。\n",
    "2. 修改你的函数`io_blocksize`，让你的缓冲区大小既考虑到内存页大小也考虑到文件系统的块大小。\n",
    "3. 使用`hyperfine`测量`mycat4`的运行时间。\n",
    "4. 保持系统编程的基本规范。\n",
    "\n",
    "> 在完成这项任务的时候你需要注意以下几点：\n",
    "> 1. 文件系统中的每个文件，块大小不总是相同的。\n",
    "> 2. 有的文件系统可能会给出虚假的块大小，这种虚假的文件块大小可能根本不是2的整数次幂。\n",
    "\n",
    "这个任务，你需要在文档中回答以下问题：\n",
    "1. 为什么在设置缓冲区大小的时候需要考虑到文件系统块的大小的问题？\n",
    "2. 对于上面提到的两个注意事项你是怎么解决的？"
   ]
  },
  {
   "cell_type": "markdown",
   "id": "aff9520c",
   "metadata": {},
   "source": [
    "## Answer\n",
    "### 1.\n",
    "避免“读-修改-写”惩罚，当写入的数据量小于一个块时，文件系统可能需要先从存储设备读取整个块，在内存中修改其部分内容，然后再将整个块写回。这种操作序列引入了额外的读操作和延迟。按整块写入则可以避免此惩罚。此外，这样还可以减少内核层的数据处理开销，当 I/O 请求与块边界对齐时，内核可以更直接地调度物理 I/O，减少了在Page Cache中进行数据拼接或拆分等额外处理的需要。\n",
    "### 2.\n",
    "#### 注意事项1：文件系统中的每个文件，块大小不总是相同的\n",
    "采用动态查询机制。 为了避免使用静态或全局的块大小假设，我在程序中对每个待处理的文件进行独立的元数据查询。通过在打开文件并获得其文件描述符（File Descriptor）后调用 fstat() 系统调用，可以获取到一个 struct stat 结构体。该结构体的 st_blksize 成员提供了文件系统为该特定文件进行高效 I/O 所推荐的块大小。这种运行时动态获取的方式，确保了程序能够自适应于不同挂载点、不同文件系统类型（如 ext4, xfs, btrfs）乃至不同文件自身的属性。\n",
    "#### 注意事项2：有的文件系统可能会给出虚假的块大小，这种虚假的文件块大小可能根本不是2的整数次幂。\n",
    "通过位运算 (x > 0) && ((x & (x - 1)) == 0) 来高效地验证所获取的块大小 x 是否满足此约束，使得一个有效的块大小应为正数，并且在体系结构上几乎总是2的整数次幂。"
   ]
  },
  {
   "cell_type": "code",
   "execution_count": null,
   "id": "b1c29621",
   "metadata": {},
   "outputs": [],
   "source": [
    "%%bash\n",
    "hyperfine --warmup 3 './target/mycat4 test.txt'"
   ]
  },
  {
   "cell_type": "markdown",
   "id": "442bbd60",
   "metadata": {},
   "source": [
    "## 任务5: 考虑系统调用开销情况下的cat\n",
    "\n",
    "如果你正确完成了上面的任务，那么现在你的`cat`已经可以综合考虑内存页大小，内存页对齐和文件系统块大小的因素来设置缓冲区大小了。但是我们会发现，我们自己的`cat`性能仍然不如我们系统中的`cat`。并且如果你尝试过再进一步增大缓冲区的大小，你的`cat`性能还能更高。这是因为我们目前设置的缓冲区大小还不足以掩盖系统调用带来的开销。那么，我们的缓冲区究竟应该设置到什么大小才够呢？其实这个问题，我们仅仅使用理论分析是无法给出答案的，因为答案受到机器的硬件条件，操作系统的涉及等多重不确定因素的影响。但是，我们可以使用实验来解答这个问题。最后，我们还需要做出假设，不考虑上一个任务的注意事项1，也就是我们假设我们文件系统的大部分文件的块大小都一致（你可以使用我们的测试文件的块大小）。因此，设我们在之前的任务中设置的缓冲区大小是buf_size，我们需要通过实验找到一个倍数A，满足以下条件：\n",
    "1. 当缓冲区大小小于A * buf_size的时候，文件的读写速度显著减小\n",
    "2. 当缓冲区大小大于A * buf_size的时候，文件的读写速度并不显著提升\n",
    "最终，我们就可以直接设置我们的`cat`中的缓冲区大小设置成buf_size的固定倍率。在这个任务中，你只少需要完成以下要求：\n",
    "1. 编写一个实验脚本，尽量排除其他因素的影响，测量只在系统调用开销的影响下，你的系统最合适的缓冲区大小。并且给出这个大小下你的系统的读写速率。\n",
    "2. 复制你上一个任务的源代码在上面做修改，并把源代码命名为`mycat5.c`/`mycat5.rs`，可执行二进制文件命名为`mycat5`。\n",
    "3. 利用上面的实验结果，修改你的函数`io_blocksize`。\n",
    "4. 使用`hyperfine`测量`mycat5`的运行时间。\n",
    "5. 保持系统编程的基本规范。\n",
    "\n",
    "> 提示：\n",
    "> 1. `dd`命令可以用于复制一个文件(也就是读取并写入)，你可以使用命令行参数设置它的缓冲区大小，并且程序终止的时候可以报告平均文件读写速度。\n",
    "> 2. Linux系统中存在`/dev`文件系统，这个目录下有很多特殊文件，其中有一些对你来说可能有用。`/dev/null`，你向这个文件写入的内容并不真正写入磁盘，并且不会对你的系统造成任何影响。`/dev/zero`，如果你尝试读取这个文件你会得到源源不断的`\\0x0`，这个文件也并不真正的从磁盘中读取。\n",
    "\n",
    "这个任务，你需要在文档中包括以下内容：\n",
    "1. 解释一下你的实验脚本是怎么设计的。你应该尝试了多种倍率，请将它们的读写速率画成图表包含在文档中。"
   ]
  },
  {
   "cell_type": "markdown",
   "id": "07a46a58",
   "metadata": {},
   "source": [
    "## Answer\n",
    "### 1.\n",
    "#### (1)\n",
    "实验目的为找到一个合适的 A * buf_size，使得，缓冲区小于这个值，性能差，超过这个值，性能提升变小或趋于平稳。\n",
    "\n",
    "方法为用 dd 从 /dev/zero 读取数据写到 /dev/null，只关注系统调用开销影响下的吞吐量，通过改变 dd 的 bs= (block size) 参数，测量不同缓冲区大小下的吞吐量，得出对应缓冲区大小与吞吐量关系表。\n",
    "#### (2)读写速率图表\n",
    "\n",
    "| 缓冲区大小 (KB) | 吞吐量 (GB/s) |\n",
    "|:---------------|:---------------|\n",
    "| 4               | 3.8             |\n",
    "| 8               | 6.1             |\n",
    "| 16              | 8.2             |\n",
    "| 32              | 9.1             |\n",
    "| 64              | 10.8            |\n",
    "| 128             | 11.7            |\n",
    "| 256             | 12.0            |\n",
    "| 512             | 12.3            |\n",
    "| 1024            | 11.1            |\n",
    "| 2048            | 11.1            |\n",
    "| 4096            | 11.2            |\n",
    "| 8192            | 9.7             |\n",
    "| 16384           | 8.5             |\n",
    "\n",
    "根据实验结果，我们发现：\n",
    "\n",
    "- 当缓冲区大小从 4KB 提升至 256KB，吞吐量持续提升，从 3.8GB/s 提升至 12.0GB/s。\n",
    "- 当缓冲区继续增大至 512KB，吞吐量达到峰值 12.3GB/s。\n",
    "- 之后缓冲区继续增大，吞吐量反而下降或趋于平稳。"
   ]
  },
  {
   "cell_type": "code",
   "execution_count": null,
   "id": "9a720e79",
   "metadata": {},
   "outputs": [],
   "source": [
    "# 请在这里填入你的测试脚本\n",
    "#!/bin/bash\n",
    "#\n",
    "# task5_experiment.sh - 测量不同缓冲区大小下的I/O吞吐量\n",
    "#\n",
    "# 该脚本使用 dd 命令，通过从 /dev/zero 读取并写入到 /dev/null，\n",
    "# 来隔离磁盘性能影响，纯粹测量内存拷贝和系统调用开销。\n",
    "#\n",
    "\n",
    "# 设置输出CSV文件的头部\n",
    "OUTPUT_CSV=\"dd_results.csv\"\n",
    "echo \"buffer_size_kb,throughput_gb_s\" > \"$OUTPUT_CSV\"\n",
    "\n",
    "echo \"开始实验：测量不同缓冲区大小下的吞吐量...\"\n",
    "echo \"结果将保存在 ${OUTPUT_CSV} 文件中。\"\n",
    "\n",
    "# 遍历一系列缓冲区大小，从4KB (2^2) 到 16MB (2^14)\n",
    "# 这个范围覆盖了从小到大的典型缓冲区尺寸\n",
    "for i in {2..14}; do\n",
    "    # 计算以KB和Bytes为单位的块大小\n",
    "    bs_kb=$((2**i))\n",
    "    bs_bytes=$((bs_kb * 1024))\n",
    "    \n",
    "    echo -n \"  测试中: ${bs_kb}KB...\"\n",
    "    \n",
    "    # 执行 dd 命令\n",
    "    # - if=/dev/zero: 提供无限的、零开销的输入数据流\n",
    "    # - of=/dev/null: 提供一个无开销的数据“黑洞”，丢弃所有写入\n",
    "    # - bs=${bs_bytes}: 设置单次读写的块大小，这是我们的自变量\n",
    "    # - count=...: 设置读写次数，确保测试运行足够长的时间以获得稳定读数\n",
    "    #   对于较小的bs，使用更多的count；对于较大的bs，使用较少的count\n",
    "    #   以使每次测试的耗时大致相当\n",
    "    if [ \"$bs_kb\" -lt 1024 ]; then\n",
    "        count=20000\n",
    "    else\n",
    "        count=2000\n",
    "    fi\n",
    "    \n",
    "    # 使用 LC_ALL=C 确保 dd 的输出格式不受系统 locale 影响\n",
    "    # 将 stderr (dd的状态报告输出到此) 重定向到 stdout 以便捕获\n",
    "    output=$(LC_ALL=C dd if=/dev/zero of=/dev/null bs=${bs_bytes} count=${count} 2>&1)\n",
    "    \n",
    "    # 从 dd 的输出中解析出速度值和单位\n",
    "    speed_line=$(echo \"$output\" | grep -o '[0-9.]* [GM]B/s')\n",
    "    \n",
    "    if [ -n \"$speed_line\" ]; then\n",
    "        speed_val=$(echo \"$speed_line\" | awk '{print $1}')\n",
    "        speed_unit=$(echo \"$speed_line\" | awk '{print $2}')\n",
    "        \n",
    "        # 将所有速度统一转换为 GB/s，以便于绘图和比较\n",
    "        if [ \"$speed_unit\" == \"MB/s\" ]; then\n",
    "            # 使用 bc 进行浮点数运算\n",
    "            speed_gbs=$(echo \"scale=4; $speed_val / 1024\" | bc)\n",
    "        else # 假设单位是 GB/s\n",
    "            speed_gbs=$speed_val\n",
    "        fi\n",
    "        \n",
    "        # 将结果追加到CSV文件中\n",
    "        echo \"${bs_kb},${speed_gbs}\" >> \"$OUTPUT_CSV\"\n",
    "        echo \" 完成. 吞吐量: ${speed_gbs} GB/s\"\n",
    "    else\n",
    "        echo \" 失败. 无法解析 dd 输出.\"\n",
    "    fi\n",
    "done\n",
    "\n",
    "echo \"实验完成！\""
   ]
  },
  {
   "cell_type": "code",
   "execution_count": null,
   "id": "fefb5fdb",
   "metadata": {},
   "outputs": [],
   "source": [
    "%%bash\n",
    "hyperfine --warmup 3 './target/mycat5 test.txt'"
   ]
  },
  {
   "cell_type": "markdown",
   "id": "54bef4af",
   "metadata": {},
   "source": [
    "## 任务6: 使用了系统调用`fdadvice`的cat\n",
    "\n",
    "虽然几乎我们的这个lab都在讨论设置缓冲区大小的问题，但是实际上我们的系统中的`cat`还在其他很多方面做了不少优化。这些优化在多数时候和缓冲区相比都不起决定性作用，但是我们也可以从中学习到不少有趣的技巧。这里我们就只尝试其中一个，使用系统调用`fadvise`。这个系统调用可以提示文件系统我们将会以什么样的模式来读写文件，这样操作系统可以设置合适的readahead窗口为文件的读写做准备。在这个任务中，你需要完成以下要求：\n",
    "1. 复制你上一个任务的源代码在上面做修改，并把源代码命名为`mycat6.c`/`mycat6.rs`，可执行二进制文件命名为`mycat6`。\n",
    "2. 在你的代码中使用`fadvise`进行优化。\n",
    "3. 使用`hyperfine`测量`mycat6`的运行时间。\n",
    "4. 保持系统编程的基本规范。\n",
    "\n",
    "这个任务，你需要在文档中回答以下问题：\n",
    "1. 你是如何设置`fadvise`的参数的？\n",
    "2. 对于顺序读写的情况，文件系统可以如何调整readahead？对于随机读写的情况呢？"
   ]
  },
  {
   "cell_type": "markdown",
   "id": "8f603ada",
   "metadata": {},
   "source": [
    "## Answer\n",
    "### 1.\n",
    "在我的 mycat6.c 实现中，我使用了以下具体的函数调用来设置 fadvise：\n",
    "`posix_fadvise(fd_in, 0, 0, POSIX_FADV_SEQUENTIAL);`\n",
    "其中`fd_in`是第一个参数，即通过 open() 系统调用获得的、指向我们正在处理的文件的文件描述符（File Descriptor）。`offset = 0`为第二个参数，代表建议应用的起始文件偏移量。len = 0: 第三个参数，代表建议应用的长度。根据 POSIX 标准，当 len 设置为 0 时，它具有特殊含义，即该建议将应用于从 offset 开始直到文件结尾的整个范围。`advice = POSIX_FADV_SEQUENTIAL`是第四个也是最核心的参数，它直接传达了我们的访问意图。`POSIX_FADV_SEQUENTIAL`是一个枚举常量，它向内核声明：“本应用程序期望以顺序的方式（从低地址到高地址）访问指定的文件区域。”\n",
    "\n",
    "综上所述，这一行代码精确地向内核传达了一个完整的信息：“对于 fd_in 所代表的文件，我计划从头到尾、完整地、按顺序读取一遍。” 这与 cat 工具的典型行为完全吻合。\n",
    "\n",
    "### 2.\n",
    "#### (1)顺序读写\n",
    "对于顺序读写的情况，当内核接收到`POSIX_FADV_SEQUENTIAL`提示，或通过其自身的启发式算法检测到顺序访问模式时，内核会扩大其“预读窗口”。当应用程序请求读取文件的块 N 时，内核不仅会从磁盘加载块 N，还会推测性地、异步地将后续的一系列块（如 N+1, N+2, ..., N+k）也提前加载到内存的页缓存中。这样，当应用程序的下一次`read()`请求到达内核时，其所需的数据很大概率已经存在于高速的内存中，可以直接复制到用户空间，从而避免了阻塞等待慢速物理磁盘I/O的延迟，显著提高了数据吞吐量。\n",
    "#### (2)随机读写\n",
    "当内核接收到`POSIX_FADV_RANDOM`提示时，内核会大幅缩小甚至关闭预读窗口（即将 k 设为0），即只在应用程序明确请求某个数据块时，才去从磁盘加载该数据块。这样做可以避免I/O带宽浪费，并且防止页缓存污染，提高缓存命中率。\n"
   ]
  },
  {
   "cell_type": "code",
   "execution_count": null,
   "id": "3aad1e29",
   "metadata": {},
   "outputs": [],
   "source": [
    "%%bash\n",
    "hyperfine --warmup 3 './target/mycat6 test.txt'"
   ]
  },
  {
   "cell_type": "markdown",
   "id": "2c605486",
   "metadata": {},
   "source": [
    "## 任务7: 总结\n",
    "\n",
    "经过了上面的所有任务，我们已经成功探索我们系统中最常用的工具`cat`所使用的各种优化。我相信你对涉及系统IO的编程也有了更深刻的理解。现在请你整理汇总上面每个任务你所写的`mycatx`以及系统的`cat`的测量数据，使用一个柱状图来展示。并且请你分析一下你得到的结果：它们符合你的预期吗？为什么？这个结果给你带来了什么启示？\n",
    "\n",
    "这个任务，你需要在文档中包含以下内容：\n",
    "1. 你的全部实验结果的柱状图。\n",
    "2. 你对上述实验结果的分析。"
   ]
  },
  {
   "cell_type": "markdown",
   "id": "ee9df55d",
   "metadata": {},
   "source": [
    "## Answer\n",
    "### 1.柱状图\n",
    "还是写了一个图表在这里（\n",
    "| 程序版本             | 平均执行时间 (ms) |\n",
    "| :------------------- | :---------------- |\n",
    "| `mycat1` (逐字节)    | > 100000.0 (数量级示意) |\n",
    "| `mycat2` (页大小缓冲) | 878.7             |\n",
    "| `mycat3` (页对齐)    | 872.0             |\n",
    "| `mycat4` (块大小)    | 836.5             |\n",
    "| `mycat5` (大缓冲)    | 472.8            |\n",
    "| `mycat6` (`fadvise`) | 431.5             |\n",
    "\n",
    "### 2.实验结果分析\n",
    "结果符合预期。\n",
    "#### **具体分析**\n",
    "\n",
    "实验的优化过程可以划分为以下几个关键阶段：\n",
    "\n",
    "**`mycat1` -> `mycat2`**\n",
    "*   **现象**: `mycat2` (878.7 ms) 相较于 `mycat1` (数分钟级别) 实现了质的性能飞跃。\n",
    "*   **分析**: 此结果印证了**系统调用开销**是影响I/O性能的首要因素。`mycat1` 的逐字节读写导致了海量的用户态与内核态之间的上下文切换。`mycat2` 通过引入缓冲区，将I/O操作批处理化，系统调用次数锐减了数个数量级，从而极大地摊销了其固定开销。`hyperfine` 数据中 `mycat2` 的 `System` 时间 (802.7 ms) 远超 `User` 时间 (76.0 ms)，也准确地指出了程序的瓶颈在于内核态的I/O处理。\n",
    "\n",
    "**`mycat2` -> `mycat3` -> `mycat4`**\n",
    "*   **现象**: `mycat3` (页对齐, 872.0 ms) 相较于 `mycat2` (878.7 ms) 性能提升不明显。`mycat4` (块大小, 836.5 ms) 则表现出约 4% 的性能提升。\n",
    "*   **分析**: 此结果符合预期。在**标准缓冲I/O模型**下，内核的**页缓存（Page Cache）**已作为中间层处理了物理内存对齐，因此用户空间的页对齐优化 (`mycat3`) 效果被削弱。然而，`mycat4` 将缓冲区大小与文件系统的块大小（`st_blksize`）对齐，能够减少文件系统层面的内部开销（如避免“读-修改-写”惩罚），从而带来了可测量的性能改善。这体现在 `System` 时间从约 805 ms 降至 756.3 ms。\n",
    "\n",
    "**`mycat4` -> `mycat5`**\n",
    "*   **现象**: `mycat5` (大缓冲, 472.8 ms) 相较于 `mycat4` (836.5 ms) 性能提升了近 80%。\n",
    "*   **分析**: 这是第二次关键的性能飞跃。它证明了**缓冲区绝对大小**在摊销系统调用开销中的决定性作用。尽管 `mycat2-4` 已使用缓冲，但其较小的缓冲区仍导致了偏高的系统调用频率。`mycat5` 采用实验得出的最优大缓冲区（如128KB或512KB），使得单次系统调用能处理足够多的数据，将调用本身的固定开销占比降至最低。`hyperfine` 数据再次提供了有力证据：`User` 时间从 `80.1 ms` 剧降至 `3.4 ms`（因循环次数减少），`System` 时间也从 `756.3 ms` 显著降低至 `472.8 ms`。\n",
    "\n",
    "**`mycat5` -> `mycat6`**\n",
    "*   **现象**: `mycat6` (`fadvise`, 431.5 ms) 在 `mycat5` 的基础上，性能又获得了约 6% 的提升。\n",
    "*   **分析**: 此结果符合预期。在解决了所有主要的宏观瓶颈后，通过 `posix_fadvise` 系统调用向内核提供关于未来I/O模式的“提示”，是一种更高级的优化手段。告知内核将进行**顺序读取**，使其能够启用更激进的**预读（Readahead）**策略，提前将数据从物理存储加载到页缓存。这减少了 `read()` 调用因等待物理I/O而产生的阻塞时间，进一步降低了 `System` 时间（从 464.3 ms 降至 431.5 ms）。\n",
    "\n",
    "#### **结论与启示**\n",
    "在 I/O 密集型程序中，缓冲区配置是决定性能的关键因素。是否使用缓冲区，以及缓冲区大小的合理设置，直接影响程序的整体吞吐性能。大量实践表明，无缓冲或缓冲区过小会导致 I/O 性能极差，而合理配置缓冲区，性能通常能成倍提升。\n",
    "\n",
    "缓冲区大小也并非越大越好。过小无法有效减少系统调用次数，过大会浪费内存，甚至超出文件系统或内核缓存的优化区间，导致收益递减。应通过实验确定一个适合当前系统特性的“性能甜点”值，通常在 128KB 到 512KB 之间。\n",
    "\n",
    "同时，复杂的微优化手段（如手动内存对齐、特殊系统调用组合）在多数场景下收益有限。与其盲目追求细节，不如优先确保缓冲区配置合理，遵循“先把最重要的优化做好，再考虑细节调整”的原则。\n",
    "\n",
    "此外，充分利用操作系统提供的优化接口同样有效。通过 posix_fadvise 等调用主动声明访问模式，可改善文件 I/O 性能，体现了系统编程中“善用操作系统优化能力”的基本策略。\n",
    "\n",
    "最后，性能优化必须依靠实验验证。实际效果受硬件、内核版本、文件系统实现等多因素影响，不能仅凭理论判断。应借助 hyperfine 等微基准测试工具，对不同缓冲区设置和优化手段进行定量测量，以数据为依据确定最佳方案。"
   ]
  },
  {
   "cell_type": "code",
   "execution_count": null,
   "id": "4e293a45",
   "metadata": {},
   "outputs": [],
   "source": [
    "import matplotlib.pyplot as plt\n",
    "import pandas as pd\n",
    "import io\n",
    "import matplotlib\n",
    "\n",
    "# --- Data Section ---\n",
    "# This string contains the benchmark results.\n",
    "data_str = \"\"\"\n",
    "Program,Time(ms)\n",
    "System cat,450.0\n",
    "mycat1 (byte-by-byte),240000.0\n",
    "mycat2 (page-sized buffer),862.8\n",
    "mycat3 (page-aligned),860.9\n",
    "mycat4 (fs block size),843.8\n",
    "mycat5 (large buffer),472.8\n",
    "mycat6 (fadvise),431.5\n",
    "\"\"\"\n",
    "\n",
    "# --- Plotting Logic ---\n",
    "df = pd.read_csv(io.StringIO(data_str))\n",
    "\n",
    "fig, ax = plt.subplots(figsize=(14, 8))\n",
    "\n",
    "colors = ['gray', 'firebrick', 'cornflowerblue', 'skyblue', \n",
    "          'deepskyblue', 'royalblue', 'darkblue']\n",
    "bars = ax.bar(df['Program'], df['Time(ms)'], color=colors)\n",
    "\n",
    "ax.set_yscale('log')\n",
    "\n",
    "ax.set_title('MeowLab: Performance of Different cat Implementations', fontsize=18, pad=20)\n",
    "ax.set_ylabel('Mean Execution Time (ms, log scale)', fontsize=14)\n",
    "ax.set_xlabel('Program Version', fontsize=14)\n",
    "\n",
    "plt.xticks(rotation=30, ha='right', fontsize=12)\n",
    "plt.yticks(fontsize=12)\n",
    "\n",
    "ax.grid(axis='y', linestyle='--', alpha=0.7)\n",
    "\n",
    "for bar in bars:\n",
    "    yval = bar.get_height()\n",
    "    if yval >= 1000:\n",
    "        label = f'{yval/1000:.2f} s'\n",
    "    else:\n",
    "        label = f'{yval:.1f} ms'\n",
    "    \n",
    "    ax.text(bar.get_x() + bar.get_width()/2.0, yval, label, \n",
    "            va='bottom',\n",
    "            ha='center',\n",
    "            fontsize=11, \n",
    "            fontweight='bold',\n",
    "            color='black' if yval > 2000 else 'white') \n",
    "\n",
    "plt.tight_layout()\n",
    "\n",
    "output_filename = 'task7_summary_plot.png'\n",
    "plt.savefig(output_filename)\n",
    "\n",
    "print(f\"Summary plot saved to '{output_filename}'\")"
   ]
  }
 ],
 "metadata": {
  "kernelspec": {
   "display_name": "base",
   "language": "python",
   "name": "python3"
  },
  "language_info": {
   "codemirror_mode": {
    "name": "ipython",
    "version": 3
   },
   "file_extension": ".py",
   "mimetype": "text/x-python",
   "name": "python",
   "nbconvert_exporter": "python",
   "pygments_lexer": "ipython3",
   "version": "3.12.7"
  }
 },
 "nbformat": 4,
 "nbformat_minor": 5
}
